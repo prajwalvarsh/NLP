{
 "cells": [
  {
   "cell_type": "code",
   "execution_count": 2,
   "id": "614d333c",
   "metadata": {},
   "outputs": [],
   "source": [
    "import spacy"
   ]
  },
  {
   "cell_type": "code",
   "execution_count": 3,
   "id": "af6ef4a0",
   "metadata": {},
   "outputs": [
    {
     "data": {
      "text/plain": [
       "spacy.lang.en.English"
      ]
     },
     "execution_count": 3,
     "metadata": {},
     "output_type": "execute_result"
    }
   ],
   "source": [
    "nlp = spacy.blank(\"en\") #Create blank language object and tokenize words in a sentence,\n",
    "                        #Creating blank language object gives a tokenizer and an empty pipeline.\n",
    "    \n",
    "type(nlp)    "
   ]
  },
  {
   "cell_type": "code",
   "execution_count": 4,
   "id": "bac2bcb8",
   "metadata": {},
   "outputs": [
    {
     "name": "stdout",
     "output_type": "stream",
     "text": [
      "University\n",
      "of\n",
      "Bamburg\n",
      "has\n",
      "bought\n",
      "a\n",
      "license\n",
      "for\n",
      "the\n",
      "  \n",
      "new\n",
      "authentication\n",
      "system\n",
      "PQ\n",
      "-\n",
      "QR\n",
      "-\n",
      "RFID\n",
      "-\n",
      "DLT\n",
      "4.0\n",
      ",\n",
      "to\n",
      "improve\n",
      "the\n",
      "security\n",
      "of\n",
      "the\n",
      "log\n",
      "-\n",
      "in\n",
      "of\n",
      "the\n",
      "online\n",
      "system\n",
      "FlexFuture\n",
      ".\n",
      "For\n",
      "deployment\n",
      ",\n",
      "all\n",
      "students\n",
      "are\n",
      "equipped\n",
      "with\n",
      "a\n",
      "token\n",
      "generator\n",
      "device\n",
      ".\n"
     ]
    }
   ],
   "source": [
    "doc = nlp(\"University of Bamburg has bought a license for the   new authentication system PQ-QR-RFID-DLT 4.0, to improve the security of the log-in of the online system FlexFuture. For deployment, all students are equipped with a token generator device.\")\n",
    "\n",
    "for token in doc:\n",
    "    print(token)"
   ]
  },
  {
   "cell_type": "code",
   "execution_count": 5,
   "id": "948a506e",
   "metadata": {},
   "outputs": [],
   "source": [
    "token0 = doc[0]"
   ]
  },
  {
   "cell_type": "code",
   "execution_count": 6,
   "id": "49d79d14",
   "metadata": {},
   "outputs": [
    {
     "data": {
      "text/plain": [
       "True"
      ]
     },
     "execution_count": 6,
     "metadata": {},
     "output_type": "execute_result"
    }
   ],
   "source": [
    "token0.is_alpha"
   ]
  },
  {
   "cell_type": "code",
   "execution_count": 7,
   "id": "4d5f21b7",
   "metadata": {},
   "outputs": [
    {
     "data": {
      "text/plain": [
       "University of Bamburg has bought"
      ]
     },
     "execution_count": 7,
     "metadata": {},
     "output_type": "execute_result"
    }
   ],
   "source": [
    "span = doc[0:5]\n",
    "span"
   ]
  },
  {
   "cell_type": "code",
   "execution_count": 8,
   "id": "8699377e",
   "metadata": {},
   "outputs": [],
   "source": [
    "text='''\n",
    "Look for data to help you address the question. Governments are good\n",
    "sources because data from public research is often freely available. Good\n",
    "places to start include http://www.data.gov/, and http://www.science.\n",
    "gov/, and in the United Kingdom, http://data.gov.uk/.\n",
    "Two of my favorite data sets are the General Social Survey at http://www3.norc.org/gss+website/, \n",
    "and the European Social Survey at http://www.europeansocialsurvey.org/.\n",
    "'''"
   ]
  },
  {
   "cell_type": "code",
   "execution_count": 9,
   "id": "6c5eeda9",
   "metadata": {},
   "outputs": [
    {
     "data": {
      "text/plain": [
       "'\\nLook for data to help you address the question. Governments are good\\nsources because data from public research is often freely available. Good\\nplaces to start include http://www.data.gov/, and http://www.science.\\ngov/, and in the United Kingdom, http://data.gov.uk/.\\nTwo of my favorite data sets are the General Social Survey at http://www3.norc.org/gss+website/, \\nand the European Social Survey at http://www.europeansocialsurvey.org/.\\n'"
      ]
     },
     "execution_count": 9,
     "metadata": {},
     "output_type": "execute_result"
    }
   ],
   "source": [
    "text"
   ]
  },
  {
   "cell_type": "code",
   "execution_count": 10,
   "id": "62eb1413",
   "metadata": {},
   "outputs": [
    {
     "data": {
      "text/plain": [
       "['http://www.data.gov/',\n",
       " 'http://www.science',\n",
       " 'http://data.gov.uk/.',\n",
       " 'http://www3.norc.org/gss+website/',\n",
       " 'http://www.europeansocialsurvey.org/.']"
      ]
     },
     "execution_count": 10,
     "metadata": {},
     "output_type": "execute_result"
    }
   ],
   "source": [
    "doc = nlp(text)\n",
    "urls = []\n",
    "for token in doc:\n",
    "    if token.like_url:\n",
    "        urls.append(token.text)\n",
    "urls  \n",
    "\n",
    "#url = [token.text for token in doc if token.like_url ] can also be used."
   ]
  },
  {
   "cell_type": "code",
   "execution_count": null,
   "id": "7fc44f56",
   "metadata": {},
   "outputs": [],
   "source": [
    "\n"
   ]
  },
  {
   "cell_type": "code",
   "execution_count": 13,
   "id": "d86f3bd0",
   "metadata": {},
   "outputs": [],
   "source": [
    "transactions = \"Tony gave two $ to Peter, Bruce gave 500 € to Steve\""
   ]
  },
  {
   "cell_type": "code",
   "execution_count": 14,
   "id": "13e3b42a",
   "metadata": {},
   "outputs": [],
   "source": [
    "doc = nlp(transactions)"
   ]
  },
  {
   "cell_type": "code",
   "execution_count": 19,
   "id": "fcabeed2",
   "metadata": {},
   "outputs": [
    {
     "name": "stdout",
     "output_type": "stream",
     "text": [
      "Tony\n",
      "gave\n",
      "two\n",
      "$\n",
      "to\n",
      "Peter\n",
      ",\n",
      "Bruce\n",
      "gave\n",
      "500\n",
      "€\n",
      "to\n",
      "Steve\n"
     ]
    }
   ],
   "source": [
    "for token in doc:\n",
    "    print(token)"
   ]
  },
  {
   "cell_type": "code",
   "execution_count": 23,
   "id": "eb69d86e",
   "metadata": {},
   "outputs": [
    {
     "name": "stdout",
     "output_type": "stream",
     "text": [
      "two $\n",
      "500 €\n"
     ]
    }
   ],
   "source": [
    "currency = []\n",
    "for token in doc:\n",
    "    if token.like_num and doc[token.i+1].is_currency:\n",
    "        print(token.text, doc[token.i+1].text)"
   ]
  },
  {
   "cell_type": "code",
   "execution_count": 1,
   "id": "1df436d3",
   "metadata": {},
   "outputs": [
    {
     "ename": "NameError",
     "evalue": "name 'doc' is not defined",
     "output_type": "error",
     "traceback": [
      "\u001b[1;31m---------------------------------------------------------------------------\u001b[0m",
      "\u001b[1;31mNameError\u001b[0m                                 Traceback (most recent call last)",
      "Cell \u001b[1;32mIn[1], line 1\u001b[0m\n\u001b[1;32m----> 1\u001b[0m \u001b[38;5;28mtype\u001b[39m(\u001b[43mdoc\u001b[49m)\n",
      "\u001b[1;31mNameError\u001b[0m: name 'doc' is not defined"
     ]
    }
   ],
   "source": [
    "type(doc)"
   ]
  },
  {
   "cell_type": "code",
   "execution_count": 29,
   "id": "6b6fe239",
   "metadata": {},
   "outputs": [
    {
     "data": {
      "text/plain": [
       "to"
      ]
     },
     "execution_count": 29,
     "metadata": {},
     "output_type": "execute_result"
    }
   ],
   "source": [
    "doc[token.i-1]"
   ]
  },
  {
   "cell_type": "markdown",
   "id": "4ab202cb",
   "metadata": {},
   "source": [
    "#### custom tokenization in spacy"
   ]
  },
  {
   "cell_type": "code",
   "execution_count": 34,
   "id": "c0055873",
   "metadata": {},
   "outputs": [],
   "source": [
    "doc = nlp(\"gimme a double chicken extra large pizza.\")"
   ]
  },
  {
   "cell_type": "code",
   "execution_count": 39,
   "id": "6b85d75d",
   "metadata": {},
   "outputs": [
    {
     "data": {
      "text/plain": [
       "['gimme', 'a', 'double', 'chicken', 'extra', 'large', 'pizza', '.']"
      ]
     },
     "execution_count": 39,
     "metadata": {},
     "output_type": "execute_result"
    }
   ],
   "source": [
    "tokens = [token.text for token in doc]\n",
    "tokens"
   ]
  },
  {
   "cell_type": "code",
   "execution_count": 44,
   "id": "abfbcbef",
   "metadata": {},
   "outputs": [
    {
     "data": {
      "text/plain": [
       "['gim', 'me', 'a', 'double', 'chicken', 'extra', 'large', 'pizza', '.']"
      ]
     },
     "execution_count": 44,
     "metadata": {},
     "output_type": "execute_result"
    }
   ],
   "source": [
    "from spacy.symbols import ORTH\n",
    "\n",
    "\n",
    "nlp.tokenizer.add_special_case(\"gimme\",[{ORTH:\"gim\"},{ORTH:\"me\"}])\n",
    "\n",
    "doc = nlp(\"gimme a double chicken extra large pizza.\")\n",
    "tokens = [token.text for token in doc]\n",
    "tokens"
   ]
  },
  {
   "cell_type": "code",
   "execution_count": null,
   "id": "70a36a0c",
   "metadata": {},
   "outputs": [],
   "source": []
  }
 ],
 "metadata": {
  "kernelspec": {
   "display_name": "Python 3 (ipykernel)",
   "language": "python",
   "name": "python3"
  },
  "language_info": {
   "codemirror_mode": {
    "name": "ipython",
    "version": 3
   },
   "file_extension": ".py",
   "mimetype": "text/x-python",
   "name": "python",
   "nbconvert_exporter": "python",
   "pygments_lexer": "ipython3",
   "version": "3.10.4"
  }
 },
 "nbformat": 4,
 "nbformat_minor": 5
}
